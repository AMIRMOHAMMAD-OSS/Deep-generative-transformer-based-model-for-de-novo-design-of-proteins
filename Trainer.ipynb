{
  "nbformat": 4,
  "nbformat_minor": 0,
  "metadata": {
    "colab": {
      "provenance": []
    },
    "kernelspec": {
      "name": "python3",
      "display_name": "Python 3"
    },
    "language_info": {
      "name": "python"
    }
  },
  "cells": [
    {
      "cell_type": "code",
      "execution_count": null,
      "metadata": {
        "id": "_CJ256BaIQqz"
      },
      "outputs": [],
      "source": [
        "\n",
        "class Trainer:\n",
        "\n",
        "    def __init__(self, config, model, train_dataset):\n",
        "        self.config = config\n",
        "        self.model = model\n",
        "        self.optimizer = None\n",
        "        self.train_dataset = train_dataset\n",
        "\n",
        "        self.device = 'cpu'\n",
        "        self.model = self.model.to(self.device)\n",
        "        self.iter_num = 0\n",
        "        self.iter_time = 0.0\n",
        "        self.iter_dt = 0.0\n",
        "\n",
        "    def add_callback(self, onevent: str, callback):\n",
        "        self.callbacks[onevent].append(callback)\n",
        "\n",
        "    def set_callback(self, onevent: str, callback):\n",
        "        self.callbacks[onevent] = [callback]\n",
        "\n",
        "    def trigger_callbacks(self, onevent: str):\n",
        "        for callback in self.callbacks.get(onevent, []):\n",
        "            callback(self)\n",
        "\n",
        "    def run(self):\n",
        "        model, config = self.model, self.config\n",
        "        device = \"cpu\"\n",
        "        self.optimizer = model.configure_optimizers(config)\n",
        "\n",
        "        def get_batch():\n",
        "          data = self.train_dataset\n",
        "          block_size = 100\n",
        "          ix = torch.randint(data.shape[0]-block_size,(config.batch_size,))\n",
        "          x = torch.stack([data[i:i+block_size] for i in ix])\n",
        "          y = torch.stack([data[i+1:i+block_size+1] for i in ix])\n",
        "          x,y = x.to(device),y.to(device)\n",
        "          return x,y\n",
        "\n",
        "        @torch.no_grad\n",
        "        def cross_val():\n",
        "          model.eval()\n",
        "          losses = torch.zeros(200+1)\n",
        "          for k in range(200):\n",
        "            X,Y = get_batch()\n",
        "            logits,loss = model(X,Y)\n",
        "            losses[k]=loss.item()\n",
        "            out = losses.mean()\n",
        "          model.train()\n",
        "          return out\n",
        "\n",
        "        model.train()\n",
        "        for epoch in range(15):\n",
        "          print(\"[epoch {o}] \\n\".format(o = epoch))\n",
        "\n",
        "          for i in range(50):\n",
        "            x, y = get_batch()\n",
        "            logits, self.loss = model(x, y)\n",
        "\n",
        "            model.zero_grad(set_to_none=True)\n",
        "            self.loss.backward()\n",
        "            torch.nn.utils.clip_grad_norm_(model.parameters(), config.grad_norm_clip)\n",
        "            self.optimizer.step()\n",
        "          print(\"\\n[train loss = {k} ]\\n\".format(epoch = epoch , k = cross_val()))\n",
        "\n"
      ]
    }
  ]
}