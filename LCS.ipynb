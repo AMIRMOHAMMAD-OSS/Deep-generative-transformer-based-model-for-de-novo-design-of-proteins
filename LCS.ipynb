{
  "nbformat": 4,
  "nbformat_minor": 0,
  "metadata": {
    "colab": {
      "provenance": [],
      "authorship_tag": "ABX9TyPf8K7Al57yRj9uVt0GBNaj",
      "include_colab_link": true
    },
    "kernelspec": {
      "name": "python3",
      "display_name": "Python 3"
    },
    "language_info": {
      "name": "python"
    }
  },
  "cells": [
    {
      "cell_type": "markdown",
      "metadata": {
        "id": "view-in-github",
        "colab_type": "text"
      },
      "source": [
        "<a href=\"https://colab.research.google.com/github/AMIRMOHAMMAD-OSS/Deep-generative-transformer-based-model-for-de-novo-design-of-proteins/blob/main/LCS.ipynb\" target=\"_parent\"><img src=\"https://colab.research.google.com/assets/colab-badge.svg\" alt=\"Open In Colab\"/></a>"
      ]
    },
    {
      "cell_type": "markdown",
      "source": [
        "#A Quick Guide :\n",
        "\n",
        ">  **Loading Sequences:**\n",
        "\n",
        "         Load the sequences into the designated boxes.\n",
        "\n",
        "\n",
        " > **Common Subsequences**:\n",
        "\n",
        "         You have two options:\n",
        "\n",
        "         If you want all common subsequences, set the All_the_common_subsequences parameter to “Yes”\n",
        "\n",
        "         If you only want the longest common subsequences, set the parameter to “No”\n",
        "\n",
        "\n",
        ">  **Results File Name**:\n",
        "\n",
        "         Specify the desired name for the text file containing the results\n"
      ],
      "metadata": {
        "id": "nJAO6SjTVytA"
      }
    },
    {
      "cell_type": "code",
      "execution_count": 67,
      "metadata": {
        "colab": {
          "base_uri": "https://localhost:8080/"
        },
        "cellView": "form",
        "id": "16AEWY7DI1gQ",
        "outputId": "9ea37e9d-d89f-4537-c305-80c7c67be81e"
      },
      "outputs": [
        {
          "output_type": "stream",
          "name": "stdout",
          "text": [
            "|| The length of the LCS is 21 ||\n",
            "\n",
            "All of the longest common subsequences :\n",
            "\n",
            "AEPQKPGDPQSKQTPEPSRSQ\n",
            "APEPQKGDPQSKQTPEPSRSQ\n",
            "AEPQPKGDPQSKQTPEPSRSQ\n"
          ]
        }
      ],
      "source": [
        "#@title Loading sequences , then hit `Runtime` -> `Run all`\n",
        "Sequence1 = \"ASPEPQPKPSGDPQSKQTPEPSRSQ\" #@param {type:\"string\"}\n",
        "Sequence2 = \"GQAKEPQWQAKEPQEQAKGAQQQDPQSKQTPEPSRSQ\" #@param {type:\"string\"}\n",
        "All_the_common_subsequences = \"No\" #@param [\"Yes\" , \"No\"]\n",
        "name = \"\" #@param {type:\"string\"}\n",
        "import numpy as np\n",
        "import functools as f\n",
        "\n",
        "def X(a,b):\n",
        "    import numpy as np\n",
        "    table = np.zeros((len(a)+1,len(b)+1))\n",
        "    for i in range(1,len(a)+1):\n",
        "        for j in range(1,len(b)+1):\n",
        "            if a[i-1] == b[j-1]:\n",
        "                table[i,j] = table[i-1,j-1]+1\n",
        "            elif table[i-1,j]>=table[i,j-1]:\n",
        "                table[i,j] = table[i-1,j]\n",
        "            else:\n",
        "                table[i,j] = table[i,j-1]\n",
        "    return table\n",
        "\n",
        "@f.lru_cache\n",
        "def LCS(seq1, seq2, i, j):\n",
        "    if i == 0 or j == 0:\n",
        "        return {\"\"}\n",
        "    if seq1[i - 1] == seq2[j - 1]:\n",
        "        s = set()\n",
        "        for l in LCS(seq1, seq2, i - 1, j - 1):\n",
        "            s.add(l + seq1[i - 1])\n",
        "        return s\n",
        "\n",
        "    s = set()\n",
        "    if table[i - 1][j] >= table[i][j - 1]:\n",
        "        s.__ior__ (LCS(seq1, seq2, i - 1, j))\n",
        "    if table[i][j - 1] >= table[i - 1][j]:\n",
        "        s.__ior__(LCS(seq1, seq2, i, j - 1))\n",
        "    return s\n",
        "\n",
        "if All_the_common_subsequences == \"Yes\":\n",
        "  table = np.zeros((len(Sequence1)+1,len(Sequence2)+1))\n",
        "  o = \"All of the common subsequences :\"\n",
        "else:\n",
        "  table = X(Sequence1,Sequence2)\n",
        "  o = \"All of the longest common subsequences :\"\n",
        "\n",
        "\n",
        "lcs_results = sorted(list(LCS(Sequence1, Sequence2, len(Sequence1), len(Sequence2))),key = lambda x:len(x))\n",
        "print(\"|| The length of the LCS is \"+str(len(lcs_results[-1]))+\" ||\\n\\n\"+o+\"\\n\")\n",
        "for i in lcs_results:\n",
        "  print(i)"
      ]
    },
    {
      "cell_type": "code",
      "source": [
        "#@title Downloading the results`\n",
        "\n",
        "if  name == \"\":\n",
        "  name = \"lcs_results_file\"+str(np.random.randint(200,1000000))\n",
        "\n",
        "if name != None:\n",
        "  if All_the_common_subsequences == \"Yes\":\n",
        "    p = \"\"\n",
        "    k = \"sorted by the length\"\n",
        "  if All_the_common_subsequences == \"No\":\n",
        "    p = \"Longest\"\n",
        "    k = \"\"\n",
        "  with open(name+\".txt\",\"w\") as e:\n",
        "    e.write(\"\\t\"*6+\"@@ LCS test result @@\\n\\n\")\n",
        "    e.write(\"Sequence1 : \"+Sequence1+\"\\n\")\n",
        "    e.write(\"Sequence2 : \"+Sequence2 +\"\\n\\n\")\n",
        "    e.write(\"lenght of the LCS : \"+str(len(lcs_results[-1])) +\"\\n\\n\")\n",
        "    e.write(\"The {p} common subsequences {k} :\\n\\n[\".format(p = p,k = k))\n",
        "    for i in range(len(lcs_results)):\n",
        "      e.write(\"\\t\" + p+\" common subsequence {i} : \".format(i = i)+lcs_results[i]+\"\\n\")\n",
        "    e.write(\"]\")\n",
        "    e.write(\"\\n\\n\\nThe memory table of the sequences:\\n\\n\")\n",
        "    for i in range(table.shape[0]):\n",
        "      e.write(\"\\t\"*3)\n",
        "      for j in range(table.shape[1]):\n",
        "        e.write(str(table[i][j])+\"\\t\")\n",
        "      e.write(\"\\n\")\n",
        "\n",
        "from google.colab import files\n",
        "files.download(name+\".txt\")\n",
        "\n"
      ],
      "metadata": {
        "colab": {
          "base_uri": "https://localhost:8080/",
          "height": 17
        },
        "cellView": "form",
        "id": "y9-VkhAiNwDb",
        "outputId": "eab836f4-b587-42b3-fc52-d0ee81921d80"
      },
      "execution_count": 68,
      "outputs": [
        {
          "output_type": "display_data",
          "data": {
            "text/plain": [
              "<IPython.core.display.Javascript object>"
            ],
            "application/javascript": [
              "\n",
              "    async function download(id, filename, size) {\n",
              "      if (!google.colab.kernel.accessAllowed) {\n",
              "        return;\n",
              "      }\n",
              "      const div = document.createElement('div');\n",
              "      const label = document.createElement('label');\n",
              "      label.textContent = `Downloading \"${filename}\": `;\n",
              "      div.appendChild(label);\n",
              "      const progress = document.createElement('progress');\n",
              "      progress.max = size;\n",
              "      div.appendChild(progress);\n",
              "      document.body.appendChild(div);\n",
              "\n",
              "      const buffers = [];\n",
              "      let downloaded = 0;\n",
              "\n",
              "      const channel = await google.colab.kernel.comms.open(id);\n",
              "      // Send a message to notify the kernel that we're ready.\n",
              "      channel.send({})\n",
              "\n",
              "      for await (const message of channel.messages) {\n",
              "        // Send a message to notify the kernel that we're ready.\n",
              "        channel.send({})\n",
              "        if (message.buffers) {\n",
              "          for (const buffer of message.buffers) {\n",
              "            buffers.push(buffer);\n",
              "            downloaded += buffer.byteLength;\n",
              "            progress.value = downloaded;\n",
              "          }\n",
              "        }\n",
              "      }\n",
              "      const blob = new Blob(buffers, {type: 'application/binary'});\n",
              "      const a = document.createElement('a');\n",
              "      a.href = window.URL.createObjectURL(blob);\n",
              "      a.download = filename;\n",
              "      div.appendChild(a);\n",
              "      a.click();\n",
              "      div.remove();\n",
              "    }\n",
              "  "
            ]
          },
          "metadata": {}
        },
        {
          "output_type": "display_data",
          "data": {
            "text/plain": [
              "<IPython.core.display.Javascript object>"
            ],
            "application/javascript": [
              "download(\"download_00a7eece-993b-484d-9852-14608c09033a\", \"lcs_results_file497090.txt\", 4591)"
            ]
          },
          "metadata": {}
        }
      ]
    }
  ]
}