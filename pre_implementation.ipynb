{
  "nbformat": 4,
  "nbformat_minor": 0,
  "metadata": {
    "colab": {
      "provenance": []
    },
    "kernelspec": {
      "name": "python3",
      "display_name": "Python 3"
    },
    "language_info": {
      "name": "python"
    }
  },
  "cells": [
    {
      "cell_type": "code",
      "execution_count": null,
      "metadata": {
        "id": "_CJ256BaIQqz"
      },
      "outputs": [],
      "source": [
        "!pip install virtualenv\n",
        "!virtualenv venv\n",
        "!source venv/bin/activate\n",
        "!pip install selenium\n",
        "!apt-get update\n",
        "!apt-get install chromium chromium-driver\n",
        "!apt-get install -y chromium-browser\n",
        "!apt install -y chromium-chromedriver\n",
        "!ls /usr/lib/chromium-browser/chromedriver\n",
        "!pip install webdriver-manager\n",
        "\n",
        "from selenium import webdriver\n",
        "from webdriver_manager.chrome import ChromeDriverManager\n",
        "from selenium.webdriver.chrome.service import Service\n",
        "import math\n",
        "import torch\n",
        "import torch.nn as nn\n",
        "from torch.nn import functional as F\n",
        "import numpy as np\n",
        "import time\n",
        "from collections import defaultdict\n",
        "import torch\n",
        "from torch.utils.data.dataloader import DataLoader\n",
        "from selenium.webdriver.common.by import By\n",
        "from selenium.webdriver.common.keys import Keys\n",
        "import time\n",
        "from selenium.webdriver.support.wait import WebDriverWait\n",
        "from selenium.webdriver.support import expected_conditions as EC\n",
        "import selenium\n"
      ]
    }
  ]
}